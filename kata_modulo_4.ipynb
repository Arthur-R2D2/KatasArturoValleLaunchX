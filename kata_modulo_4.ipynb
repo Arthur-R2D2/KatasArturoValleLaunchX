{
 "cells": [
  {
   "cell_type": "markdown",
   "metadata": {},
   "source": [
    "# KATA MÓDULO 4"
   ]
  },
  {
   "cell_type": "markdown",
   "metadata": {},
   "source": [
    "## Ejercicio 1: Transformar cadena\n",
    "En este ejercicio, se usan métodos de cadena para modificar el texto con hechos sobre la Luna y luego se extraerá información para crear un breve resumen."
   ]
  },
  {
   "cell_type": "markdown",
   "metadata": {},
   "source": [
    "## TEXTO:\n"
   ]
  },
  {
   "cell_type": "code",
   "execution_count": 1,
   "metadata": {},
   "outputs": [
    {
     "name": "stdout",
     "output_type": "stream",
     "text": [
      "The Moon is Earth's only satellite\n",
      "There are several interesting facts about \n",
      "the Moon and how it affects life here on Earth\n",
      "\n",
      "On average, the Moon moves 4cm away from the Earth every year\n",
      "This yearly drift is not significant enough to cause immediate \n",
      "effects on Earth\n",
      "The highest daylight temperature of the Moon is 127 C.\n",
      "Interesting facts about the Moon\n",
      "The Moon is Earth's only satellite\n",
      "There are several interesting facts about \n",
      "the Moon and how it affects life here on Earth\n",
      "\n",
      "On average, the Moon moves 4cm away from the Earth every year\n",
      "This yearly drift is not significant enough to cause immediate \n",
      "effects on Earth\n",
      "The highest daylight temperature of the Moon is 127 Celsius.\n"
     ]
    }
   ],
   "source": [
    "text = \"\"\"Interesting facts about the Moon. The Moon is Earth's only satellite. There are several interesting facts about \n",
    "the Moon and how it affects life here on Earth. \n",
    "On average, the Moon moves 4cm away from the Earth every year. This yearly drift is not significant enough to cause immediate \n",
    "effects on Earth. The highest daylight temperature of the Moon is 127 C.\"\"\"\n",
    "\n",
    "# Primero debemos de divir el texto con .slit()\n",
    "dividir_texto = text.split('. ')\n",
    "dividir_texto\n",
    "\n",
    "# Se deben de mencionar las palabras clave importantes de la luna\n",
    "palabras_clave = [\"satellyte\",\"moves\", \"temperature\"]\n",
    "\n",
    "# Se debe de recorrer la cadena\n",
    "for oraciones in dividir_texto:\n",
    "    for palabras_clave in palabras_clave:\n",
    "        if palabras_clave in oraciones:\n",
    "            print(oraciones)\n",
    "            break\n",
    "\n",
    "# Ciclo para cambiarlo la C por Celsius\n",
    "for oraciones in dividir_texto:\n",
    "    for palabras_clave in palabras_clave:\n",
    "        if palabras_clave in oraciones:\n",
    "            print(oraciones.replace(' C', ' Celsius'))\n"
   ]
  },
  {
   "cell_type": "markdown",
   "metadata": {},
   "source": [
    "## Ejercicio 2: Formateando Cadenas\n",
    "Saber cómo dar formato a las cadenas es esencial cuando se presenta información de un programa. Hay algunas maneras diferentes de lograr esto en Python. En este ejercicio, se utilizan variables que contienen datos clave sobre la gravedad en varias lunas y luego se utilizan para dar formato e imprimir la información.\n",
    "\n",
    "El formato tiene que acomodar información sobre otras lunas, por lo que debe ser genérico.\n",
    "\n",
    "En lugar de reemplazar las variables en una cadena larga como parte de un párrafo, utiliza la información para presentarla en un formato tabular."
   ]
  },
  {
   "cell_type": "code",
   "execution_count": 3,
   "metadata": {},
   "outputs": [
    {
     "name": "stdout",
     "output_type": "stream",
     "text": [
      " -------------------------------------------------------------------------------- \n",
      "Nombre del planeta: Tierra\n",
      "Gravedad en Luna : 1.6199999999999999 m/s2 \n"
     ]
    }
   ],
   "source": [
    "# Datos para trabajar\n",
    "nombre = \"Luna\"\n",
    "gravedad = 0.00162 # en kilometros\n",
    "planeta = \"Tierra\"\n",
    "\n",
    "# Primero debemos de crear el titulo para el texto utilizando variables\n",
    "title = f'Datos de la gravedad de {nombre}'\n",
    "\n",
    "# Creación de la Plantilla de cadena\n",
    "hechos = f\"\"\" {'-'*80} \n",
    "Nombre del planeta: {planeta}\n",
    "Gravedad en {nombre} : {gravedad * 1000} m/s2 \"\"\"\n",
    "\n",
    "# Se deben de unir nuestro título con nuestros hechos\n",
    "plantilla = f\"\"\"{title.title()}\n",
    "{hechos}\"\"\"\n",
    "print(hechos)\n",
    "\n",
    "\n",
    "\n"
   ]
  }
 ],
 "metadata": {
  "interpreter": {
   "hash": "aee8b7b246df8f9039afb4144a1f6fd8d2ca17a180786b69acc140d282b71a49"
  },
  "kernelspec": {
   "display_name": "Python 3.10.2 64-bit",
   "language": "python",
   "name": "python3"
  },
  "language_info": {
   "codemirror_mode": {
    "name": "ipython",
    "version": 3
   },
   "file_extension": ".py",
   "mimetype": "text/x-python",
   "name": "python",
   "nbconvert_exporter": "python",
   "pygments_lexer": "ipython3",
   "version": "3.10.2"
  },
  "orig_nbformat": 4
 },
 "nbformat": 4,
 "nbformat_minor": 2
}
