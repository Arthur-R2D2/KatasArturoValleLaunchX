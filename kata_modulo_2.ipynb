{
 "cells": [
  {
   "cell_type": "markdown",
   "metadata": {},
   "source": [
    "# KATA MÓDULO 2\n",
    "## Ejercicio: Crear un entorno virtual\n",
    "Aprenderemos a utilizar entornos virtuales como una forma para no afectar a los paquetes instalados globalmente u otros programas que se ejecutan en nuestro equipo."
   ]
  },
  {
   "cell_type": "markdown",
   "metadata": {},
   "source": [
    "Crear un entorno virtual mediante \"venv\"\n",
    "1. Ejecutar en nuestra terminal: python3 -m venv env ó python -m venv env\n",
    "![ss_1](images/ss_1.png)\n",
    "#\n",
    "2. Ejecutamos el comando para activar nuestro entorno virtual: source env/bin/activate\n",
    "![ss_2](images/ss_2.png)\n",
    "#\n",
    "3. Dentro de nuestro entorno virtual, nstalaremos una biblioteca y esta sólo existirá en nuestro entorno virtual,\n",
    "ejecutamos el comando: pip freeze para ver las bibliotecas instaladas en nuestro entorno\n",
    "![ss_3](images/ss_3.png)\n",
    "#\n",
    "4. Ejecutamos el comando: pip install python-dateutil\n",
    "![ss_4](images/ss_4.png)\n",
    "#\n",
    "5. Volvemos a ejecutar el comando: pip freeze para ver como ha cambiado nuestra lista de bibliotecas en nuestro entorno virtual\n",
    "![ss_5](images/ss_5.png)\n",
    "#\n",
    "6. Para descativar nuestro entorno virtual ejecutamos el sigueinte comando: deactive\n",
    "![ss_6](images/ss_6.png)\n",
    "\n",
    "\n"
   ]
  },
  {
   "cell_type": "markdown",
   "metadata": {},
   "source": []
  }
 ],
 "metadata": {
  "language_info": {
   "name": "python"
  },
  "orig_nbformat": 4
 },
 "nbformat": 4,
 "nbformat_minor": 2
}
