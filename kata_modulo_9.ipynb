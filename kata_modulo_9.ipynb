{
 "cells": [
  {
   "cell_type": "markdown",
   "metadata": {},
   "source": [
    "# KATA MÓDULO 9\n",
    "## Ejercicio 1: Trabajar con argumentos en funciones\n",
    "Se va a construir un informe de combustible que requiere información de varias ubicaciones de combustible en todo el cohete."
   ]
  },
  {
   "cell_type": "code",
   "execution_count": 3,
   "metadata": {},
   "outputs": [
    {
     "name": "stdout",
     "output_type": "stream",
     "text": [
      "Reporte de combustible:\n",
      "    Promedio Total: 78.33333333333333%\n",
      "    Tanque Principal: 80%\n",
      "    Tanque Externo: 70%\n",
      "    Tanque Hidrogeno: 85%\n",
      "    \n",
      "Reporte de combustible:\n",
      "    Promedio Total: 78.0%\n",
      "    Tanque Principal: 88%\n",
      "    Tanque Externo: 76%\n",
      "    Tanque Hidrogeno: 70% \n",
      "    \n"
     ]
    }
   ],
   "source": [
    "def generar_reporte(tanque_principal, tanque_externo, tanque_hidrogeno):\n",
    "    promedio_total = (tanque_principal + tanque_externo + tanque_hidrogeno) / 3\n",
    "    return f\"\"\"Reporte de combustible:\n",
    "    Promedio Total: {promedio_total}%\n",
    "    Tanque Principal: {tanque_principal}%\n",
    "    Tanque Externo: {tanque_externo}%\n",
    "    Tanque Hidrogeno: {tanque_hidrogeno}%\n",
    "    \"\"\"\n",
    "print(generar_reporte(80, 70, 85))\n",
    "\n",
    "def promedio(valores):\n",
    "    total = sum(valores)\n",
    "    numero_elementos = len(valores)\n",
    "    return total / numero_elementos\n",
    "promedio([80, 85, 81]) \n",
    "    \n",
    "\n",
    "def generar_reporte(tanque_principal, tanque_externo, tanque_hidrogeno):\n",
    "    return f\"\"\"Reporte de combustible:\n",
    "    Promedio Total: {promedio([tanque_principal, tanque_externo, tanque_hidrogeno])}%\n",
    "    Tanque Principal: {tanque_principal}%\n",
    "    Tanque Externo: {tanque_externo}%\n",
    "    Tanque Hidrogeno: {tanque_hidrogeno}% \n",
    "    \"\"\"\n",
    "print(generar_reporte(88, 76, 70))\n",
    "\n"
   ]
  },
  {
   "cell_type": "markdown",
   "metadata": {},
   "source": [
    "## Ejercicio 2: Trabajo con argumentos de palabra clave\n",
    "### Trabajar con argumentos de palabras clave en funciones\n",
    "Se creará un informe de cohete que requiere varias piezas de información, como el tiempo hasta el destino, el combustible a la izquierda y el nombre del destino. "
   ]
  },
  {
   "cell_type": "code",
   "execution_count": 23,
   "metadata": {},
   "outputs": [
    {
     "name": "stdout",
     "output_type": "stream",
     "text": [
      "\n",
      "    Misión a Luna\n",
      "    Tiempo total de viaje: 65 minutos\n",
      "    Combustible total restante: 500000 galones\n",
      "    \n",
      "\n",
      "    Misión a Luna\n",
      "    Tiempo total de viaje: 76 minutes\n",
      "    Combustible total restante: 500000\n",
      "    \n",
      "\n",
      "    Misión a Luna\n",
      "    Tiempo total de viaje: 74 minutos\n",
      "    Combustible total restante: 500000\n",
      "    principal tanque --> 300000 galones quedan en el tanque\n",
      "externo tanque --> 200000 galones quedan en el tanque\n",
      "\n"
     ]
    }
   ],
   "source": [
    "def reporte_mision(tiempo_previo, tiempo_vuelo, destino, tanque_externo, tanque_principal):\n",
    "    return f\"\"\"\n",
    "    Misión a {destino}\n",
    "    Tiempo total de viaje: {tiempo_previo + tiempo_vuelo} minutos\n",
    "    Combustible total restante: {tanque_externo + tanque_principal} galones\n",
    "    \"\"\"\n",
    "print(reporte_mision(14, 51, \"Luna\", 200000, 300000))\n",
    "\n",
    "def reporte_mision(destino, *minutos, **deposito_combustible):\n",
    "    return f\"\"\"\n",
    "    Misión a {destino}\n",
    "    Tiempo total de viaje: {sum(minutos)} minutes\n",
    "    Combustible total restante: {sum(deposito_combustible.values())}\n",
    "    \"\"\"\n",
    "\n",
    "print(reporte_mision(\"Luna\", 10, 15, 51, principal=300000, externo=200000))\n",
    "\n",
    "def reporte_mision(destino, *minutos, **deposito_combustible):\n",
    "    reporte_principal = f\"\"\"\n",
    "    Misión a {destino}\n",
    "    Tiempo total de viaje: {sum(minutos)} minutos\n",
    "    Combustible total restante: {sum(deposito_combustible.values())}\n",
    "    \"\"\"\n",
    "    for nombre_tanque, galones in deposito_combustible.items():\n",
    "        reporte_principal += f\"{nombre_tanque} tanque --> {galones} galones quedan en el tanque\\n\"\n",
    "    return reporte_principal\n",
    "print(reporte_mision(\"Luna\", 8, 11, 55, principal=300000, externo=200000))\n"
   ]
  }
 ],
 "metadata": {
  "interpreter": {
   "hash": "aee8b7b246df8f9039afb4144a1f6fd8d2ca17a180786b69acc140d282b71a49"
  },
  "kernelspec": {
   "display_name": "Python 3.10.2 64-bit",
   "language": "python",
   "name": "python3"
  },
  "language_info": {
   "codemirror_mode": {
    "name": "ipython",
    "version": 3
   },
   "file_extension": ".py",
   "mimetype": "text/x-python",
   "name": "python",
   "nbconvert_exporter": "python",
   "pygments_lexer": "ipython3",
   "version": "3.10.2"
  },
  "orig_nbformat": 4
 },
 "nbformat": 4,
 "nbformat_minor": 2
}
