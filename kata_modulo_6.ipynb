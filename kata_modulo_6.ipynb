{
 "cells": [
  {
   "cell_type": "markdown",
   "metadata": {},
   "source": [
    "# KATA MÓDULO 6"
   ]
  },
  {
   "cell_type": "markdown",
   "metadata": {},
   "source": [
    "## Ejercicio1: Crear y usar listas de Python\n",
    "### Usar listas para almacenar nombres de planetas\n"
   ]
  },
  {
   "cell_type": "code",
   "execution_count": 2,
   "metadata": {},
   "outputs": [
    {
     "name": "stdout",
     "output_type": "stream",
     "text": [
      "Estos son los 8 Planetas del Sistema Solar\n",
      "Plutón era el último planeta, pero lo sacaron por pequeño :( \n"
     ]
    }
   ],
   "source": [
    "planetas = ['Mercurio', 'Venus', 'Tierra', 'Marte', 'Jupiter', 'Saturno', 'Urano', 'Neptuno']\n",
    "print('Estos son los', len(planetas), 'Planetas del Sistema Solar')\n",
    "\n",
    "planetas.append('Plutón')\n",
    "print(planetas[-1], 'era el último planeta, pero lo sacaron por pequeño :( ')"
   ]
  },
  {
   "cell_type": "markdown",
   "metadata": {},
   "source": [
    "## Ejercicio 2: Trabajando con datos de una lista\n"
   ]
  },
  {
   "cell_type": "markdown",
   "metadata": {},
   "source": [
    "### Usar slices para recuperar partes de una lista\n",
    "Queremos mostrar planetas más cerca y más lejos del sol de un planeta que el usuario ingrese.\n"
   ]
  },
  {
   "cell_type": "code",
   "execution_count": 4,
   "metadata": {},
   "outputs": [
    {
     "name": "stdout",
     "output_type": "stream",
     "text": [
      "Estos son los planetas más cercanos a Marte\n",
      "['Mercurio', 'Venus', 'Tierra']\n",
      "Estos son los planetas más alejados de Marte\n",
      "['Jupiter', 'Saturno', 'Urano', 'Neptuno']\n"
     ]
    }
   ],
   "source": [
    "planetas = ['Mercurio', 'Venus', 'Tierra', 'Marte', 'Jupiter', 'Saturno', 'Urano', 'Neptuno']\n",
    "\n",
    "ingresar_planeta = input('Escriba el nombre del planeta empezando con mayúscula')\n",
    "\n",
    "index_planeta = planetas.index(ingresar_planeta)\n",
    "\n",
    "print('Estos son los planetas más cercanos a ' + ingresar_planeta)\n",
    "print(planetas[0:index_planeta])\n",
    "\n",
    "print('Estos son los planetas más alejados de ' + ingresar_planeta)\n",
    "print(planetas[index_planeta + 1:])\n",
    "\n",
    "\n",
    "\n"
   ]
  }
 ],
 "metadata": {
  "interpreter": {
   "hash": "aee8b7b246df8f9039afb4144a1f6fd8d2ca17a180786b69acc140d282b71a49"
  },
  "kernelspec": {
   "display_name": "Python 3.10.2 64-bit",
   "language": "python",
   "name": "python3"
  },
  "language_info": {
   "codemirror_mode": {
    "name": "ipython",
    "version": 3
   },
   "file_extension": ".py",
   "mimetype": "text/x-python",
   "name": "python",
   "nbconvert_exporter": "python",
   "pygments_lexer": "ipython3",
   "version": "3.10.2"
  },
  "orig_nbformat": 4
 },
 "nbformat": 4,
 "nbformat_minor": 2
}
