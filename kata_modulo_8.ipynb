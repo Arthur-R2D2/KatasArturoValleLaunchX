{
 "cells": [
  {
   "cell_type": "markdown",
   "metadata": {},
   "source": []
  },
  {
   "cell_type": "markdown",
   "metadata": {},
   "source": [
    "# KATA MÓDULO 8\n",
    "## Ejercicio 1: Creación de diccionarios de Python\n",
    "Ejercicio: Crear y modificar un diccionario de Python\n"
   ]
  },
  {
   "cell_type": "code",
   "execution_count": 7,
   "metadata": {},
   "outputs": [
    {
     "name": "stdout",
     "output_type": "stream",
     "text": [
      " Marte tiene 2 Lunas\n",
      " Marte tiene una circunferencia polar de 6752 \n"
     ]
    }
   ],
   "source": [
    "planeta = {\n",
    "    'nombre': 'Marte',\n",
    "    'lunas': '2'\n",
    "}\n",
    "\n",
    "#Se imprime el nombre del planeta y el número de lunas que tiene.\n",
    "print(f' {planeta[\"nombre\"]} tiene {planeta[\"lunas\"]} Lunas')\n",
    "\n",
    "planeta[ 'circunferencia (km) '] = {\n",
    "    'polar': 6752,\n",
    "    'ecuatorial': 6792\n",
    "}\n",
    "print(f' {planeta[\"nombre\"]} tiene una circunferencia polar de {planeta[\"circunferencia (km) \" ] [ \"polar\" ]} ' )\n",
    " \n",
    "\n",
    "\n",
    "\n",
    "\n"
   ]
  },
  {
   "cell_type": "markdown",
   "metadata": {},
   "source": [
    "## Ejercicio 2: Programación dinámica con diccionarios\n",
    "### Ejercicio: Cálculo de valores\n",
    "Se calculará el número total de lunas en el sistema solar como el número promedio de lunas que tiene un planeta."
   ]
  },
  {
   "cell_type": "code",
   "execution_count": 8,
   "metadata": {},
   "outputs": [
    {
     "name": "stdout",
     "output_type": "stream",
     "text": [
      "0.0\n",
      "0.0\n",
      "0.08333333333333333\n",
      "0.25\n",
      "6.833333333333333\n",
      "13.666666666666666\n",
      "15.916666666666666\n",
      "17.083333333333332\n",
      "17.5\n",
      "17.666666666666668\n",
      "17.75\n",
      "17.833333333333332\n"
     ]
    }
   ],
   "source": [
    "lunas_planetas = {\n",
    "    'Mercurio' : 0,\n",
    "    'Venus': 0,\n",
    "    'Tierra' : 1,\n",
    "    'Marte' : 2,\n",
    "    'Jupiter' : 79,\n",
    "    'Saturno' : 82,\n",
    "    'Urano' : 27,\n",
    "    'Neptuno' : 14,\n",
    "    'Pluton' : 5,\n",
    "    'Haumea' : 2,\n",
    "    'Makemake' : 1,\n",
    "    'Eris' : 1\n",
    "}\n",
    "\n",
    "lunas = lunas_planetas.values()\n",
    "planetas = len(lunas_planetas.keys())\n",
    "\n",
    "total_lunas = 0\n",
    "for luna in lunas:\n",
    "    total_lunas = total_lunas + luna\n",
    "    promedio = total_lunas / planetas\n",
    "    print(promedio)\n",
    "    \n",
    "\n",
    "\n",
    "\n"
   ]
  }
 ],
 "metadata": {
  "interpreter": {
   "hash": "aee8b7b246df8f9039afb4144a1f6fd8d2ca17a180786b69acc140d282b71a49"
  },
  "kernelspec": {
   "display_name": "Python 3.10.2 64-bit",
   "language": "python",
   "name": "python3"
  },
  "language_info": {
   "codemirror_mode": {
    "name": "ipython",
    "version": 3
   },
   "file_extension": ".py",
   "mimetype": "text/x-python",
   "name": "python",
   "nbconvert_exporter": "python",
   "pygments_lexer": "ipython3",
   "version": "3.10.2"
  },
  "orig_nbformat": 4
 },
 "nbformat": 4,
 "nbformat_minor": 2
}
