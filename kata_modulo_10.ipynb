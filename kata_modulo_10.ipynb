{
 "cells": [
  {
   "cell_type": "markdown",
   "metadata": {},
   "source": [
    "# KATA MODULO 10\n",
    "## Creación de excepciones con mensajes de error útiles."
   ]
  },
  {
   "cell_type": "markdown",
   "metadata": {},
   "source": []
  },
  {
   "cell_type": "markdown",
   "metadata": {},
   "source": [
    "1. Creamos un archivo de Python con el nombre de \"open.py\" con el siguiente contenido:\n",
    "#\n",
    "def main():\n",
    "    open(\"/path/to/mars.jpg\")\n",
    "#\n",
    "if __name__ == '__main__':\n",
    "    main()\n",
    "#\n",
    "2. Se trata de una sola función main() que abre el archivo inexistente, como antes. Al final, esta función usa un asistente de Python que indica al intérprete que ejecute la función main() cuando se le llama en el terminal. La ejecutamos con Python y podemos comprobar el siguiente mensaje de error:\n",
    "#\n",
    "![ss_7](images/ss_7.png)\n",
    "#\n",
    "3. Aunque es común un archivo que no existe, no es el único error que podemos encontrar. Los permisos de archivo no válidos pueden impedir la lectura de un archivo, incluso si este existe. Vamos a crear un archivo de Python denominado \"config.py\" El archivo tiene código que busca y lee el archivo de configuración del sistema de navegación:\n",
    "#\n",
    "def main():\n",
    "    try:\n",
    "        configuration = open('config.txt')\n",
    "    except FileNotFoundError:\n",
    "        print(\"Couldn't find the config.txt file!\")\n",
    "\n",
    "\n",
    "if __name__ == '__main__':\n",
    "    main()\n",
    "#\n",
    "4. A continuación, quitamps el archivo config.txt y creamos un directorio denominado config.txt. Intentaremos llamar al archivo config.py para ver un error nuevo que debería ser similar al siguiente:\n",
    "#\n",
    "![ss_8](images/ss_8.png)\n",
    "#\n",
    "5. Una manera poco útil de controlar este error sería detectar todas las excepciones posibles para evitar un traceback. Para comprender por qué detectar todas las excepciones es problemático, probaremos actualizando la función main():\n",
    "#\n",
    "def main():\n",
    "    try:\n",
    "        configuration = open('config.txt')\n",
    "    except Exception:\n",
    "        print(\"Couldn't find the config.txt file!\")\n",
    "#\n",
    "6. Ahora volvemos a ejecutar el código en el mismo lugar donde existe el archivo config.txt con permisos incorrectos:\n",
    "#\n",
    "![ss_9](images/ss_9.png)\n",
    "#\n",
    "7. El problema ahora es que el mensaje de error es incorrecto. El archivo existe, pero tiene permisos diferentes y Python no puede leerlo. Cuando se trata con errores de software, puede resultar frustrante tener errores que hagan lo siguiente:\n",
    "#\n",
    "* No indiquen cuál es el problema real.\n",
    "* Proporcionen una salida que no coincida con el problema real.\n",
    "* No sugieran lo que se puede hacer para corregir el problema.\n",
    "#\n",
    "8. Vamos a corregir este fragmento de código para abordar todas estas frustraciones. Revertiremos la detección de FileNotFoundError y luego agregamos otro bloque except para detectar PermissionError:\n",
    "#\n",
    "def main():\n",
    "    try:\n",
    "        configuration = open('config.txt')\n",
    "    except FileNotFoundError:\n",
    "        print(\"Couldn't find the config.txt file!\")\n",
    "    except IsADirectoryError:\n",
    "        print(\"Found config.txt but it is a directory, couldn't read it\")\n",
    "#\n",
    "\n",
    "\n"
   ]
  }
 ],
 "metadata": {
  "language_info": {
   "name": "python"
  },
  "orig_nbformat": 4
 },
 "nbformat": 4,
 "nbformat_minor": 2
}
